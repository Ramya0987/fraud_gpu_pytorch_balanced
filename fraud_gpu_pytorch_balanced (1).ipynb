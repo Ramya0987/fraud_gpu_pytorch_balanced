{
  "cells": [
    {
      "cell_type": "code",
      "source": [
        "# STEP 1: Import Libraries\n",
        "import pandas as pd\n",
        "import numpy as np\n",
        "import torch\n",
        "from torch import nn, optim\n",
        "from sklearn.model_selection import train_test_split\n",
        "from sklearn.preprocessing import StandardScaler\n",
        "from sklearn.metrics import f1_score, precision_score, recall_score"
      ],
      "metadata": {
        "id": "REuPTJhER9zs"
      },
      "execution_count": 1,
      "outputs": []
    },
    {
      "cell_type": "code",
      "source": [
        "# STEP 2: Load Dataset\n",
        "url = \"https://storage.googleapis.com/download.tensorflow.org/data/creditcard.csv\"\n",
        "df = pd.read_csv(url)"
      ],
      "metadata": {
        "id": "ZGBZbd5QR9zt"
      },
      "execution_count": 2,
      "outputs": []
    },
    {
      "cell_type": "code",
      "source": [
        "# STEP 3: Preprocess\n",
        "X = df.drop(columns=['Class'])\n",
        "y = df['Class']\n",
        "scaler = StandardScaler()\n",
        "X_scaled = scaler.fit_transform(X)\n",
        "X_train, X_test, y_train, y_test = train_test_split(X_scaled, y, test_size=0.2, random_state=42, stratify=y)"
      ],
      "metadata": {
        "id": "5GVko6KVR9zu"
      },
      "execution_count": 9,
      "outputs": []
    },
    {
      "cell_type": "code",
      "source": [
        "# STEP 4: Convert to GPU Tensors\n",
        "device = torch.device(\"cuda\" if torch.cuda.is_available() else \"cpu\")\n",
        "X_train_tensor = torch.tensor(X_train, dtype=torch.float32).to(device)\n",
        "X_test_tensor = torch.tensor(X_test, dtype=torch.float32).to(device)\n",
        "y_train_tensor = torch.tensor(y_train.values, dtype=torch.float32).to(device)\n",
        "y_test_tensor = torch.tensor(y_test.values, dtype=torch.float32).to(device)"
      ],
      "metadata": {
        "id": "YFrkSs2FR9zu"
      },
      "execution_count": 10,
      "outputs": []
    },
    {
      "cell_type": "code",
      "source": [
        "# STEP 5: Define Neural Network\n",
        "class FraudNet(nn.Module):\n",
        "    def __init__(self, input_size):\n",
        "        super(FraudNet, self).__init__()\n",
        "        self.model = nn.Sequential(\n",
        "            nn.Linear(input_size, 32),\n",
        "            nn.ReLU(),\n",
        "            nn.Linear(32, 16),\n",
        "            nn.ReLU(),\n",
        "            nn.Linear(16, 1)\n",
        "        )\n",
        "    def forward(self, x):\n",
        "        return self.model(x)\n",
        "\n",
        "model = FraudNet(X_train.shape[1]).to(device)"
      ],
      "metadata": {
        "id": "qdOy2zHWR9zu"
      },
      "execution_count": 12,
      "outputs": []
    },
    {
      "cell_type": "code",
      "source": [
        "# STEP 6: Handle Class Imbalance\n",
        "fraud_weight = (y_train == 0).sum() / (y_train == 1).sum()\n",
        "pos_weight = torch.tensor([fraud_weight], device=device)\n",
        "criterion = nn.BCEWithLogitsLoss(pos_weight=pos_weight)\n",
        "optimizer = optim.Adam(model.parameters(), lr=0.001)"
      ],
      "metadata": {
        "id": "mVhKjYflR9zu"
      },
      "execution_count": 13,
      "outputs": []
    },
    {
      "cell_type": "code",
      "source": [
        "# STEP 7: Train the Model\n",
        "epochs = 50\n",
        "batch_size = 1024\n",
        "for epoch in range(epochs):\n",
        "    model.train()\n",
        "    for i in range(0, len(X_train_tensor), batch_size):\n",
        "        batch_X = X_train_tensor[i:i+batch_size]\n",
        "        batch_y = y_train_tensor[i:i+batch_size].view(-1, 1)\n",
        "        optimizer.zero_grad()\n",
        "        output = model(batch_X)\n",
        "        loss = criterion(output, batch_y)\n",
        "        loss.backward()\n",
        "        optimizer.step()\n",
        "    print(f\"Epoch {epoch+1}/{epochs} completed\")"
      ],
      "metadata": {
        "colab": {
          "base_uri": "https://localhost:8080/"
        },
        "id": "MrXUkjCFR9zv",
        "outputId": "fc5612c6-c55d-4a5a-c493-c9c90a6ebdf0"
      },
      "execution_count": 14,
      "outputs": [
        {
          "output_type": "stream",
          "name": "stdout",
          "text": [
            "Epoch 1/50 completed\n",
            "Epoch 2/50 completed\n",
            "Epoch 3/50 completed\n",
            "Epoch 4/50 completed\n",
            "Epoch 5/50 completed\n",
            "Epoch 6/50 completed\n",
            "Epoch 7/50 completed\n",
            "Epoch 8/50 completed\n",
            "Epoch 9/50 completed\n",
            "Epoch 10/50 completed\n",
            "Epoch 11/50 completed\n",
            "Epoch 12/50 completed\n",
            "Epoch 13/50 completed\n",
            "Epoch 14/50 completed\n",
            "Epoch 15/50 completed\n",
            "Epoch 16/50 completed\n",
            "Epoch 17/50 completed\n",
            "Epoch 18/50 completed\n",
            "Epoch 19/50 completed\n",
            "Epoch 20/50 completed\n",
            "Epoch 21/50 completed\n",
            "Epoch 22/50 completed\n",
            "Epoch 23/50 completed\n",
            "Epoch 24/50 completed\n",
            "Epoch 25/50 completed\n",
            "Epoch 26/50 completed\n",
            "Epoch 27/50 completed\n",
            "Epoch 28/50 completed\n",
            "Epoch 29/50 completed\n",
            "Epoch 30/50 completed\n",
            "Epoch 31/50 completed\n",
            "Epoch 32/50 completed\n",
            "Epoch 33/50 completed\n",
            "Epoch 34/50 completed\n",
            "Epoch 35/50 completed\n",
            "Epoch 36/50 completed\n",
            "Epoch 37/50 completed\n",
            "Epoch 38/50 completed\n",
            "Epoch 39/50 completed\n",
            "Epoch 40/50 completed\n",
            "Epoch 41/50 completed\n",
            "Epoch 42/50 completed\n",
            "Epoch 43/50 completed\n",
            "Epoch 44/50 completed\n",
            "Epoch 45/50 completed\n",
            "Epoch 46/50 completed\n",
            "Epoch 47/50 completed\n",
            "Epoch 48/50 completed\n",
            "Epoch 49/50 completed\n",
            "Epoch 50/50 completed\n"
          ]
        }
      ]
    },
    {
      "cell_type": "code",
      "source": [
        "# STEP 8: Evaluate the Model\n",
        "model.eval()\n",
        "with torch.no_grad():\n",
        "    logits = model(X_test_tensor).cpu()\n",
        "    probs = torch.sigmoid(logits).numpy()\n",
        "\n",
        "    y_pred = (probs > 0.2).astype(int)\n",
        "    y_true = y_test_tensor.cpu().numpy()\n",
        "\n",
        "f1 = f1_score(y_true, y_pred)\n",
        "precision = precision_score(y_true, y_pred)\n",
        "recall = recall_score(y_true, y_pred)\n",
        "\n",
        "print(f\"\\n📊 F1 Score: {f1:.4f}\")\n",
        "print(f\"📌 Precision: {precision:.4f}\")\n",
        "print(f\"📈 Recall: {recall:.4f}\")"
      ],
      "metadata": {
        "colab": {
          "base_uri": "https://localhost:8080/"
        },
        "id": "0VRc_NKHR9zv",
        "outputId": "1c1d85c0-2e3e-4bc1-a5d2-267c9f958293"
      },
      "execution_count": 15,
      "outputs": [
        {
          "output_type": "stream",
          "name": "stdout",
          "text": [
            "\n",
            "📊 F1 Score: 0.2710\n",
            "📌 Precision: 0.1599\n",
            "📈 Recall: 0.8878\n"
          ]
        }
      ]
    }
  ],
  "metadata": {
    "kernelspec": {
      "display_name": "Python 3",
      "name": "python3"
    },
    "language_info": {
      "name": "python",
      "version": "3.10"
    },
    "colab": {
      "provenance": [],
      "gpuType": "T4"
    },
    "accelerator": "GPU"
  },
  "nbformat": 4,
  "nbformat_minor": 0
}